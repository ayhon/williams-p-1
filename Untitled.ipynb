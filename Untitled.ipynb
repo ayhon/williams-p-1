{
 "cells": [
  {
   "cell_type": "markdown",
   "id": "cc0e97a5",
   "metadata": {
    "slideshow": {
     "slide_type": "slide"
    }
   },
   "source": [
    "# Método $p+1$ de Williams"
   ]
  },
  {
   "cell_type": "markdown",
   "id": "8c16efaf",
   "metadata": {
    "slideshow": {
     "slide_type": "slide"
    }
   },
   "source": [
    "## Contenidos\n",
    "### Introducción: Factorización de números\n",
    "### Método $p-1$ de Pollard\n",
    "### Funciones de Lucas\n",
    "### Método $p+1$ de William\n",
    "### Adendum: Segundos pasos"
   ]
  },
  {
   "cell_type": "markdown",
   "id": "d73f8d49",
   "metadata": {
    "slideshow": {
     "slide_type": "slide"
    }
   },
   "source": [
    "### Introducción: Factorización de números"
   ]
  },
  {
   "cell_type": "code",
   "execution_count": null,
   "id": "89431a72",
   "metadata": {
    "slideshow": {
     "slide_type": "subslide"
    }
   },
   "outputs": [],
   "source": [
    "def factor(N: int) -> dict[int,int]:\n",
    "    factors = {}\n",
    "    for number in range(2,sqrt(N)):\n",
    "        multiplicity = 0\n",
    "        while N % number == 0:\n",
    "            multiplicity++\n",
    "            N = N // number\n",
    "        if multiplicity != 0:\n",
    "            factors.update({number: multiplicity})\n",
    "    return factors"
   ]
  },
  {
   "cell_type": "markdown",
   "id": "5b859e16",
   "metadata": {
    "slideshow": {
     "slide_type": "fragment"
    }
   },
   "source": [
    "Complejidad: $O(\\sqrt{N})$"
   ]
  },
  {
   "cell_type": "code",
   "execution_count": null,
   "id": "7fcf9341",
   "metadata": {
    "slideshow": {
     "slide_type": "subslide"
    }
   },
   "outputs": [],
   "source": [
    "def factor_once(N: int) -> tuple[int,int]:\n",
    "    for number in range(2,sqrt(N)):\n",
    "        multiplicity = 0\n",
    "        while N % number == 0:\n",
    "            multiplicity++\n",
    "            N = N // number\n",
    "        if multiplicity != 0:\n",
    "            return number**multiplicity, N\n",
    "    return 1, N"
   ]
  },
  {
   "cell_type": "markdown",
   "id": "72269ca8",
   "metadata": {
    "slideshow": {
     "slide_type": "fragment"
    }
   },
   "source": [
    "La complejidad sigue siendo $O(\\sqrt{N})$ en el peor caso"
   ]
  },
  {
   "cell_type": "code",
   "execution_count": null,
   "id": "090db27a",
   "metadata": {},
   "outputs": [],
   "source": [
    "#### ¿Hay una forma más?"
   ]
  },
  {
   "cell_type": "code",
   "execution_count": null,
   "id": "a55c5adf",
   "metadata": {
    "slideshow": {
     "slide_type": "subslide"
    }
   },
   "outputs": [],
   "source": [
    "def gcd(N: int, M: int) -> int:"
   ]
  }
 ],
 "metadata": {
  "celltoolbar": "Slideshow",
  "kernelspec": {
   "display_name": "Python 3 (ipykernel)",
   "language": "python",
   "name": "python3"
  },
  "language_info": {
   "codemirror_mode": {
    "name": "ipython",
    "version": 3
   },
   "file_extension": ".py",
   "mimetype": "text/x-python",
   "name": "python",
   "nbconvert_exporter": "python",
   "pygments_lexer": "ipython3",
   "version": "3.9.5"
  }
 },
 "nbformat": 4,
 "nbformat_minor": 5
}
