{
 "cells": [
  {
   "cell_type": "markdown",
   "id": "a419f300",
   "metadata": {
    "slideshow": {
     "slide_type": "slide"
    }
   },
   "source": [
    "# Método $p+1$ de Williams"
   ]
  },
  {
   "cell_type": "markdown",
   "id": "a900176d",
   "metadata": {
    "slideshow": {
     "slide_type": "slide"
    }
   },
   "source": [
    "# Contenidos\n",
    "## Introducción: Factorización de números\n",
    "## Método $p-1$ de Pollard\n",
    "## Funciones de Lucas\n",
    "## Método $p+1$ de William\n",
    "## Adendum: Segundos pasos"
   ]
  },
  {
   "cell_type": "markdown",
   "id": "8ab501e0",
   "metadata": {
    "slideshow": {
     "slide_type": "slide"
    }
   },
   "source": [
    "# Introducción: Factorización de números"
   ]
  },
  {
   "cell_type": "markdown",
   "id": "792b0b3a",
   "metadata": {
    "slideshow": {
     "slide_type": "subslide"
    }
   },
   "source": [
    "### ¿Cómo podemos factorizar un número?"
   ]
  },
  {
   "cell_type": "code",
   "execution_count": 81,
   "id": "11047885",
   "metadata": {
    "slideshow": {
     "slide_type": "subslide"
    }
   },
   "outputs": [],
   "source": [
    "def factor(N: int) -> dict[int,int]:\n",
    "    factors = {}\n",
    "    for number in range(2,sqrt(N)):\n",
    "        multiplicity = 0\n",
    "        while N % number == 0:\n",
    "            multiplicity+=1\n",
    "            N = N // number\n",
    "        if multiplicity != 0:\n",
    "            factors.update({number: multiplicity})\n",
    "    return factors"
   ]
  },
  {
   "cell_type": "markdown",
   "id": "2fb1e7d8",
   "metadata": {
    "slideshow": {
     "slide_type": "fragment"
    }
   },
   "source": [
    "Complejidad: $O\\left(\\sqrt{N}\\right)$"
   ]
  },
  {
   "cell_type": "code",
   "execution_count": 82,
   "id": "b16fec30",
   "metadata": {
    "slideshow": {
     "slide_type": "subslide"
    }
   },
   "outputs": [],
   "source": [
    "def factor_once(N: int) -> int:\n",
    "    for number in range(2,sqrt(N)):\n",
    "        multiplicity = 0\n",
    "        while N % number == 0:\n",
    "            multiplicity+=1\n",
    "            N = N // number\n",
    "        if multiplicity != 0:\n",
    "            return number**multiplicity\n",
    "    return 1"
   ]
  },
  {
   "cell_type": "markdown",
   "id": "5f131152",
   "metadata": {
    "slideshow": {
     "slide_type": "notes"
    }
   },
   "source": [
    "Si devolvemos `1` es que nos hemos rendido"
   ]
  },
  {
   "cell_type": "markdown",
   "id": "39d78dd3",
   "metadata": {
    "slideshow": {
     "slide_type": "fragment"
    }
   },
   "source": [
    "La complejidad sigue siendo $O\\left(\\sqrt{N}\\right)$ en el peor caso"
   ]
  },
  {
   "cell_type": "markdown",
   "id": "edaab70c",
   "metadata": {
    "slideshow": {
     "slide_type": "subslide"
    }
   },
   "source": [
    "### ¿Hay una forma más rápida de sacar un factor de un número?"
   ]
  },
  {
   "cell_type": "code",
   "execution_count": 14,
   "id": "75fdc436",
   "metadata": {
    "slideshow": {
     "slide_type": "subslide"
    }
   },
   "outputs": [],
   "source": [
    "def gcd(N: int, M: int) -> int:\n",
    "    return N if M == 0 else gcd(M,N%M)"
   ]
  },
  {
   "cell_type": "markdown",
   "id": "be201024",
   "metadata": {
    "slideshow": {
     "slide_type": "fragment"
    }
   },
   "source": [
    "Complejidad: $O(\\log(N))$"
   ]
  },
  {
   "cell_type": "markdown",
   "id": "096201cd",
   "metadata": {
    "slideshow": {
     "slide_type": "fragment"
    }
   },
   "source": [
    "En verdad $O\\left(\\log^2{N}\\right)$ si $N$ es de longitud arbitraria"
   ]
  },
  {
   "cell_type": "markdown",
   "id": "6d30be16",
   "metadata": {
    "slideshow": {
     "slide_type": "notes"
    }
   },
   "source": [
    "Esto es porque `rem` toma $O\\left(\\log^2(N)\\right)$ en estos casos ([Source](https://en.wikipedia.org/wiki/Euclidean_algorithm#Algorithmic_efficiency))"
   ]
  },
  {
   "cell_type": "markdown",
   "id": "36ff4cfe",
   "metadata": {
    "slideshow": {
     "slide_type": "subslide"
    }
   },
   "source": [
    "### ¿Cómo conseguimos multiplos de un factor de N?"
   ]
  },
  {
   "cell_type": "markdown",
   "id": "55ac4cc7",
   "metadata": {
    "slideshow": {
     "slide_type": "fragment"
    }
   },
   "source": [
    " - Método $p-1$ de Pollard"
   ]
  },
  {
   "cell_type": "markdown",
   "id": "083b4afd",
   "metadata": {
    "slideshow": {
     "slide_type": "fragment"
    }
   },
   "source": [
    " - Método $p+1$ de William"
   ]
  },
  {
   "cell_type": "markdown",
   "id": "04864095",
   "metadata": {
    "slideshow": {
     "slide_type": "slide"
    }
   },
   "source": [
    "# Método $p-1$ de Pollard"
   ]
  },
  {
   "cell_type": "markdown",
   "id": "8d7e4c43",
   "metadata": {
    "slideshow": {
     "slide_type": "subslide"
    }
   },
   "source": [
    "Teorema de Fermat:  \n",
    "Para $p$ primo y $a$ coprimo con $p$,\n",
    "$$\n",
    "a^{p-1} \\equiv 1 \\mod p\n",
    "$$"
   ]
  },
  {
   "cell_type": "markdown",
   "id": "3bbaf5bf",
   "metadata": {
    "slideshow": {
     "slide_type": "fragment"
    }
   },
   "source": [
    "$$\n",
    "a^{k\\left(p-1\\right)} \\equiv 1 \\mod p\n",
    "$$\n",
    "para $k\\in \\mathbb{Z}$"
   ]
  },
  {
   "cell_type": "markdown",
   "id": "0e042155",
   "metadata": {
    "slideshow": {
     "slide_type": "fragment"
    }
   },
   "source": [
    "Es decir\n",
    "$$a^{k(p-1)} - 1 \\in p\\mathbb{Z}$$"
   ]
  },
  {
   "cell_type": "markdown",
   "id": "217ddcc2",
   "metadata": {
    "slideshow": {
     "slide_type": "subslide"
    }
   },
   "source": [
    "$$\n",
    "\\begin{align*}\n",
    "\\varphi :\\ &(p-1)\\mathbb{Z} \\to p\\mathbb{Z} \\\\\n",
    "          & k(p-1) \\mapsto a^{k(p-1)} - 1\n",
    "\\end{align*}\n",
    "$$"
   ]
  },
  {
   "cell_type": "markdown",
   "id": "4184b6c9",
   "metadata": {
    "slideshow": {
     "slide_type": "notes"
    }
   },
   "source": [
    "Lo que tenemos es una función que nos transforma múltiplos de $p-1$ en múltiplos de $p$"
   ]
  },
  {
   "cell_type": "markdown",
   "id": "cb8ba6ac",
   "metadata": {
    "slideshow": {
     "slide_type": "subslide"
    }
   },
   "source": [
    "## ¿Como hallamos múltiplos de $p-1$?"
   ]
  },
  {
   "cell_type": "markdown",
   "id": "3b0555f5",
   "metadata": {
    "slideshow": {
     "slide_type": "subslide"
    }
   },
   "source": [
    "Supongamos que $p-1$ es $B$-suave"
   ]
  },
  {
   "cell_type": "markdown",
   "id": "e2ae07e8",
   "metadata": {
    "slideshow": {
     "slide_type": "fragment"
    }
   },
   "source": [
    "> Un número $n$ se dice $B$-suave si todos sus factores potencia de primo son menores o iguales a $B$, es decir\n",
    "> $$ n = p_1^{\\alpha_1} \\cdot\\dots\\cdot p_r^{\\alpha_r} \\quad \\Longrightarrow \\quad p_i^{\\alpha_i} \\le B \\quad \\forall i \\in \\{1,\\dots,r\\} $$"
   ]
  },
  {
   "cell_type": "markdown",
   "id": "2eba9ebd",
   "metadata": {
    "slideshow": {
     "slide_type": "fragment"
    }
   },
   "source": [
    "Múltiplos de $p-1$:"
   ]
  },
  {
   "cell_type": "markdown",
   "id": "c330182d",
   "metadata": {
    "slideshow": {
     "slide_type": "-"
    }
   },
   "source": [
    " - $B! = \\prod_{k=1}^Bk$  \n",
    "  si $\\alpha_i = 1$ para $i\\in\\{1,\\dots,r\\}$"
   ]
  },
  {
   "cell_type": "markdown",
   "id": "60407044",
   "metadata": {
    "slideshow": {
     "slide_type": "fragment"
    }
   },
   "source": [
    " - $R = \\prod_{p\\in P} p^{\\lfloor\\log_pB\\rfloor}$  \n",
    "  con $P = \\{p \\text{ primo } : p \\le B\\}$"
   ]
  },
  {
   "cell_type": "code",
   "execution_count": 16,
   "id": "01672c27",
   "metadata": {
    "slideshow": {
     "slide_type": "notes"
    }
   },
   "outputs": [],
   "source": [
    "from math import gcd, log\n",
    "from typing import Iterable, Callable\n",
    "from itertools import count\n",
    "from random import randint"
   ]
  },
  {
   "cell_type": "code",
   "execution_count": 17,
   "id": "0d4a9df8",
   "metadata": {
    "slideshow": {
     "slide_type": "subslide"
    }
   },
   "outputs": [],
   "source": [
    "def metodo_pollard(N: int, B: int) -> int:\n",
    "    a_R = randint(2,N)\n",
    "    for prime in primes_until(B):\n",
    "        r = pow(prime, int(log(B,prime)))\n",
    "        a_R = pow(a_R,r,N)\n",
    "        d = gcd(a_R - 1, N)\n",
    "        if d not in (1,N):\n",
    "            return d\n",
    "    return 1"
   ]
  },
  {
   "cell_type": "markdown",
   "id": "0f581bb5",
   "metadata": {
    "slideshow": {
     "slide_type": "fragment"
    }
   },
   "source": [
    "Lo verdaderamente increible es que nunca necesitamos usar $R$, nos basta con construir $a^R$ de forma paulatina"
   ]
  },
  {
   "cell_type": "code",
   "execution_count": 18,
   "id": "1d9a56ea",
   "metadata": {
    "slideshow": {
     "slide_type": "fragment"
    }
   },
   "outputs": [],
   "source": [
    "def primes_until(B: int) -> Iterable[int]:\n",
    "    sequence = count(2)\n",
    "    prime = next(sequence)\n",
    "    while prime <= B:\n",
    "        yield prime\n",
    "        sequence = filter(lambda x, p=prime: x % p != 0, sequence)\n",
    "        prime = next(sequence)"
   ]
  },
  {
   "cell_type": "code",
   "execution_count": 19,
   "id": "f1b456ac",
   "metadata": {
    "slideshow": {
     "slide_type": "notes"
    }
   },
   "outputs": [
    {
     "name": "stdout",
     "output_type": "stream",
     "text": [
      "{2: 1, 11: 1, 13: 2, 61: 1}\n",
      "{2: 3, 3: 1, 5: 1, 11: 1, 263: 1}\n"
     ]
    }
   ],
   "source": [
    "import sympy\n",
    "print(sympy.factorint(226799-1)) # Este puede servir para un ejemplo\n",
    "assert sympy.isprime(226799)\n",
    "print(sympy.factorint(347161-1))\n",
    "assert sympy.isprime(347161)"
   ]
  },
  {
   "cell_type": "code",
   "execution_count": 20,
   "id": "47121a10",
   "metadata": {
    "slideshow": {
     "slide_type": "notes"
    }
   },
   "outputs": [
    {
     "data": {
      "text/plain": [
       "226799"
      ]
     },
     "execution_count": 20,
     "metadata": {},
     "output_type": "execute_result"
    }
   ],
   "source": [
    "metodo_pollard(226799 * 347161, B=200)"
   ]
  },
  {
   "cell_type": "code",
   "execution_count": 21,
   "id": "3b727291",
   "metadata": {
    "slideshow": {
     "slide_type": "notes"
    }
   },
   "outputs": [
    {
     "data": {
      "text/plain": [
       "True"
      ]
     },
     "execution_count": 21,
     "metadata": {},
     "output_type": "execute_result"
    }
   ],
   "source": [
    "# metodo_pollard(, B=100) != 1\n",
    "powersmooth_primes = [\n",
    "    104723,\n",
    "    226799,\n",
    "    347161,\n",
    "    799979,\n",
    "    1952437,\n",
    "    2501099,\n",
    "]\n",
    "Ns = [prime*70201 for prime in powersmooth_primes]\n",
    "all(prime for N in Ns if metodo_pollard(N, B=10) != 1)"
   ]
  },
  {
   "cell_type": "code",
   "execution_count": 34,
   "id": "726ff926",
   "metadata": {},
   "outputs": [],
   "source": [
    "def metodo_generico (\n",
    "    N: int, \n",
    "    B: int, \n",
    "    initial_candidate: int,\n",
    "    update_candidate: Callable[[int,int], int],\n",
    "    extract: Callable[[int,int],int] = gcd,\n",
    ") -> int:\n",
    "    candidate = initial_candidate\n",
    "    for prime in primes_until(B):\n",
    "        r = pow(prime, int(log(B,prime)))\n",
    "        candidate = update_candidate(candidate,r)\n",
    "        d = extract(candidate, N)\n",
    "        if d not in (1,N):\n",
    "            return d\n",
    "    return 1\n",
    "\n",
    "def metodo_pollard(N: int, B: int) -> int:\n",
    "    update = lambda a_R, r: pow(a_R,r,N)\n",
    "    return metodo_generico ( N\n",
    "                           , B\n",
    "                           , initial_candidate = randint(2,N-1)\n",
    "                           , update_candidate  = update\n",
    "                           , extract = lambda a, b : gcd(a-1,b))"
   ]
  },
  {
   "cell_type": "markdown",
   "id": "6e73266b",
   "metadata": {
    "slideshow": {
     "slide_type": "slide"
    }
   },
   "source": [
    "# Funciones de Lucas"
   ]
  },
  {
   "cell_type": "markdown",
   "id": "860169a4",
   "metadata": {
    "slideshow": {
     "slide_type": "subslide"
    }
   },
   "source": [
    "Definimos las funciones de Lucas como\n",
    "$$\n",
    "U_n(P,Q) = \\frac{a^n - b^n}{a-b} \\quad\\quad\\quad \n",
    "V_n(P,Q) = a^n + b^n\n",
    "$$\n",
    "donde $a$ y $b$ son las raices de $x^2 - Px + Q$"
   ]
  },
  {
   "cell_type": "markdown",
   "id": "1b0b3531",
   "metadata": {
    "slideshow": {
     "slide_type": "fragment"
    }
   },
   "source": [
    "Por lo tanto, tenemos que\n",
    "$$\n",
    "\\begin{align*}\n",
    "P &= a + b \\\\\n",
    "Q &= ab\n",
    "\\end{align*}\n",
    "$$"
   ]
  },
  {
   "cell_type": "markdown",
   "id": "9539f17f",
   "metadata": {
    "slideshow": {
     "slide_type": "fragment"
    }
   },
   "source": [
    "Denotamos por $D$ al discriminante de $x^2 - Px + Q$\n",
    "$$\n",
    "\\begin{align*}\n",
    "D &= P^2 - 4Q \\\\\n",
    "  &= (a - b)^2\n",
    "\\end{align*}\n",
    "$$"
   ]
  },
  {
   "cell_type": "markdown",
   "id": "a7f6cc08",
   "metadata": {
    "slideshow": {
     "slide_type": "subslide"
    }
   },
   "source": [
    "Las funciones de Lucas cumplen muchas propiedades"
   ]
  },
  {
   "cell_type": "markdown",
   "id": "603bd040",
   "metadata": {
    "slideshow": {
     "slide_type": "fragment"
    }
   },
   "source": [
    " - $U_n = PU_{n-1} - QU_{n-2}$\n",
    " - $V_n = PV_{n-1} - QV_{n-2}$"
   ]
  },
  {
   "cell_type": "markdown",
   "id": "82dfaf1e",
   "metadata": {
    "slideshow": {
     "slide_type": "notes"
    }
   },
   "source": [
    " <video controls>\n",
    "  <source src=\"Move_a_formula.mp4\" type=\"video/mp4\">\n",
    "  Your browser does not support the video tag.\n",
    "</video> "
   ]
  },
  {
   "cell_type": "markdown",
   "id": "ee52cdbf",
   "metadata": {
    "slideshow": {
     "slide_type": "fragment"
    }
   },
   "source": [
    " - $U_0 = \\frac{1 - 1}{a-b} = 0$\n",
    " - $U_1 = \\frac{a-b}{a-b} = 1$\n",
    " - $V_0 = 1 + 1 = 2$\n",
    " - $V_1 = a + b = P$"
   ]
  },
  {
   "cell_type": "markdown",
   "id": "2035b73e",
   "metadata": {
    "slideshow": {
     "slide_type": "notes"
    }
   },
   "source": [
    "Con $P = -Q = 1$, $\\{U_n\\}_{n\\ge1}$ es la serie de Fibonacci y $\\{V_n\\}_{n\\ge1}$ es la serie de Lucas"
   ]
  },
  {
   "cell_type": "markdown",
   "id": "6d5458a5",
   "metadata": {
    "slideshow": {
     "slide_type": "fragment"
    }
   },
   "source": [
    "Las que nos interesan son:"
   ]
  },
  {
   "cell_type": "markdown",
   "id": "ca166d41",
   "metadata": {
    "slideshow": {
     "slide_type": "fragment"
    }
   },
   "source": [
    "$$\n",
    "U_{k\\left(p-\\left(\\frac{D}{p}\\right)\\right)}(P,Q) \\equiv 0 \\mod p\n",
    "$$"
   ]
  },
  {
   "cell_type": "markdown",
   "id": "fbbbb799",
   "metadata": {
    "slideshow": {
     "slide_type": "fragment"
    }
   },
   "source": [
    "$$\n",
    "V_{k\\left(p-\\left(\\frac{D}{p}\\right)\\right)}(P,Q) \\equiv 2Q^{\\frac{1}{2}\\left(1-\\left(\\frac{D}{p}\\right)\\right)} \\mod p\n",
    "$$"
   ]
  },
  {
   "cell_type": "code",
   "execution_count": 2,
   "id": "d87b22b7",
   "metadata": {
    "slideshow": {
     "slide_type": "notes"
    }
   },
   "outputs": [],
   "source": [
    "import sympy as sp\n",
    "i,j,a,b = sp.symbols(\"i,j,a,b\", reals=True, positive=True)\n",
    "P = a + b\n",
    "Q = a*b\n",
    "D = (a-b)**2\n",
    "U = lambda n : (a**n-b**n)/(a-b)\n",
    "V = lambda n : a**n + b**n"
   ]
  },
  {
   "cell_type": "markdown",
   "id": "76a9418d",
   "metadata": {
    "slideshow": {
     "slide_type": "subslide"
    }
   },
   "source": [
    "## $$U_{p-\\left(\\frac{D}{p}\\right)}(P,Q) \\equiv 0 \\mod p$$"
   ]
  },
  {
   "cell_type": "markdown",
   "id": "e245815a",
   "metadata": {
    "slideshow": {
     "slide_type": "fragment"
    }
   },
   "source": [
    "$$V_p \\equiv V_1 = P \\mod p$$"
   ]
  },
  {
   "cell_type": "markdown",
   "id": "86a1c711",
   "metadata": {
    "slideshow": {
     "slide_type": "fragment"
    }
   },
   "source": [
    "$$U_p \\equiv \\left(\\frac{D}{p}\\right) \\mod p$$"
   ]
  },
  {
   "cell_type": "markdown",
   "id": "2e259ed9",
   "metadata": {
    "slideshow": {
     "slide_type": "fragment"
    }
   },
   "source": [
    "$$2U_{i+j} = U_iV_j + U_jV_i$$"
   ]
  },
  {
   "cell_type": "code",
   "execution_count": 4,
   "id": "e6bbb509",
   "metadata": {
    "slideshow": {
     "slide_type": "notes"
    }
   },
   "outputs": [
    {
     "data": {
      "text/latex": [
       "$\\displaystyle \\frac{2 \\left(a^{i + j} - b^{i + j}\\right)}{a - b}$"
      ],
      "text/plain": [
       "2*(a**(i + j) - b**(i + j))/(a - b)"
      ]
     },
     "execution_count": 4,
     "metadata": {},
     "output_type": "execute_result"
    }
   ],
   "source": [
    "sp.expand(U(i) * V(j) + U(j) * V(i)).simplify()"
   ]
  },
  {
   "cell_type": "code",
   "execution_count": 5,
   "id": "365c38f2",
   "metadata": {
    "slideshow": {
     "slide_type": "notes"
    }
   },
   "outputs": [
    {
     "data": {
      "text/latex": [
       "$\\displaystyle \\frac{2 \\left(a^{i + j} - b^{i + j}\\right)}{a - b}$"
      ],
      "text/plain": [
       "2*(a**(i + j) - b**(i + j))/(a - b)"
      ]
     },
     "execution_count": 5,
     "metadata": {},
     "output_type": "execute_result"
    }
   ],
   "source": [
    "2*U(i+j) "
   ]
  },
  {
   "cell_type": "markdown",
   "id": "01caaf03",
   "metadata": {
    "slideshow": {
     "slide_type": "fragment"
    }
   },
   "source": [
    "$$U_{p+1} \\equiv 0\\mod p\\quad\\text{ si }\\left(\\frac{D}{p}\\right) = -1$$"
   ]
  },
  {
   "cell_type": "markdown",
   "id": "a42882b4",
   "metadata": {
    "slideshow": {
     "slide_type": "fragment"
    }
   },
   "source": [
    "$$2Q^jU_{i-j} = U_iV_j - U_jV_i$$"
   ]
  },
  {
   "cell_type": "code",
   "execution_count": 10,
   "id": "3b7c59c2",
   "metadata": {
    "slideshow": {
     "slide_type": "notes"
    }
   },
   "outputs": [
    {
     "data": {
      "text/latex": [
       "$\\displaystyle \\frac{2 \\left(a^{i} b^{j} - a^{j} b^{i}\\right)}{a - b}$"
      ],
      "text/plain": [
       "2*(a**i*b**j - a**j*b**i)/(a - b)"
      ]
     },
     "execution_count": 10,
     "metadata": {},
     "output_type": "execute_result"
    }
   ],
   "source": [
    "sp.expand(2*Q**j * U(i-j)).simplify()"
   ]
  },
  {
   "cell_type": "code",
   "execution_count": 12,
   "id": "05f2a4d5",
   "metadata": {
    "slideshow": {
     "slide_type": "notes"
    }
   },
   "outputs": [
    {
     "data": {
      "text/latex": [
       "$\\displaystyle \\frac{2 \\left(a^{i} b^{j} - a^{j} b^{i}\\right)}{a - b}$"
      ],
      "text/plain": [
       "2*(a**i*b**j - a**j*b**i)/(a - b)"
      ]
     },
     "execution_count": 12,
     "metadata": {},
     "output_type": "execute_result"
    }
   ],
   "source": [
    "sp.expand(U(i) * V(j) - U(j) * V(i)).simplify()"
   ]
  },
  {
   "cell_type": "markdown",
   "id": "d9345c86",
   "metadata": {
    "slideshow": {
     "slide_type": "fragment"
    }
   },
   "source": [
    "$$U_{p-1} \\equiv 0\\mod p\\quad\\text{ si }\\left(\\frac{D}{p}\\right) = 1$$"
   ]
  },
  {
   "cell_type": "markdown",
   "id": "bd657762",
   "metadata": {
    "slideshow": {
     "slide_type": "subslide"
    }
   },
   "source": [
    "## $$U_{k\\left(p-\\left(\\frac{D}{p}\\right)\\right)}(P,Q) \\equiv 0 \\mod p$$"
   ]
  },
  {
   "cell_type": "markdown",
   "id": "2a159c28",
   "metadata": {
    "slideshow": {
     "slide_type": "fragment"
    }
   },
   "source": [
    "$$ p \\mid U_i \\text{ y } p \\mid U_j \\Longrightarrow p \\mid U_{i+j} $$"
   ]
  },
  {
   "cell_type": "markdown",
   "id": "fa145e2d",
   "metadata": {
    "slideshow": {
     "slide_type": "subslide"
    }
   },
   "source": [
    "## $$ V_{p-\\left(\\frac{D}{p}\\right)}(P,Q) \\equiv 2Q^{\\frac{1}{2}\\left(1-\\left(\\frac{D}{p}\\right)\\right)} \\mod p $$"
   ]
  },
  {
   "cell_type": "markdown",
   "id": "eb552e1f",
   "metadata": {
    "slideshow": {
     "slide_type": "fragment"
    }
   },
   "source": [
    "$$V_p \\equiv V_1 = P \\mod p$$\n",
    "$$U_p \\equiv \\left(\\frac{D}{p}\\right) \\mod p$$"
   ]
  },
  {
   "cell_type": "markdown",
   "id": "37dddf15",
   "metadata": {
    "slideshow": {
     "slide_type": "fragment"
    }
   },
   "source": [
    "$$2V_{i+j} = V_iV_j + DU_iU_j$$"
   ]
  },
  {
   "cell_type": "code",
   "execution_count": 24,
   "id": "9049535a",
   "metadata": {
    "slideshow": {
     "slide_type": "notes"
    }
   },
   "outputs": [
    {
     "data": {
      "text/latex": [
       "$\\displaystyle 2 a^{i + j} + 2 b^{i + j}$"
      ],
      "text/plain": [
       "2*a**(i + j) + 2*b**(i + j)"
      ]
     },
     "execution_count": 24,
     "metadata": {},
     "output_type": "execute_result"
    }
   ],
   "source": [
    "sp.expand(V(i)*V(j) + D*U(i)*U(j)).simplify()"
   ]
  },
  {
   "cell_type": "code",
   "execution_count": 25,
   "id": "6213a5cf",
   "metadata": {
    "slideshow": {
     "slide_type": "notes"
    }
   },
   "outputs": [
    {
     "data": {
      "text/latex": [
       "$\\displaystyle 2 a^{i + j} + 2 b^{i + j}$"
      ],
      "text/plain": [
       "2*a**(i + j) + 2*b**(i + j)"
      ]
     },
     "execution_count": 25,
     "metadata": {},
     "output_type": "execute_result"
    }
   ],
   "source": [
    "2*V(i+j)"
   ]
  },
  {
   "cell_type": "markdown",
   "id": "322ae3c1",
   "metadata": {
    "slideshow": {
     "slide_type": "fragment"
    }
   },
   "source": [
    "$$V_{p+1} \\equiv 2Q \\mod p\\quad\\text{ si } \\left(\\frac{D}{p}\\right) = -1$$"
   ]
  },
  {
   "cell_type": "markdown",
   "id": "54e48621",
   "metadata": {
    "slideshow": {
     "slide_type": "fragment"
    }
   },
   "source": [
    "$$2Q^jV_{i-j} \\equiv V_iV_j - DU_iU_j$$"
   ]
  },
  {
   "cell_type": "code",
   "execution_count": 26,
   "id": "44488dcc",
   "metadata": {
    "slideshow": {
     "slide_type": "notes"
    }
   },
   "outputs": [
    {
     "data": {
      "text/latex": [
       "$\\displaystyle 2 a^{i} b^{j} + 2 a^{j} b^{i}$"
      ],
      "text/plain": [
       "2*a**i*b**j + 2*a**j*b**i"
      ]
     },
     "execution_count": 26,
     "metadata": {},
     "output_type": "execute_result"
    }
   ],
   "source": [
    "sp.expand(V(i)*V(j) - D*U(i)*U(j)).simplify()"
   ]
  },
  {
   "cell_type": "code",
   "execution_count": 27,
   "id": "e3bb7e2d",
   "metadata": {
    "slideshow": {
     "slide_type": "notes"
    }
   },
   "outputs": [
    {
     "data": {
      "text/latex": [
       "$\\displaystyle 2 a^{i} b^{j} + 2 a^{j} b^{i}$"
      ],
      "text/plain": [
       "2*a**i*b**j + 2*a**j*b**i"
      ]
     },
     "execution_count": 27,
     "metadata": {},
     "output_type": "execute_result"
    }
   ],
   "source": [
    "sp.expand(2*Q**j*V(i-j))"
   ]
  },
  {
   "cell_type": "markdown",
   "id": "39776e40",
   "metadata": {
    "slideshow": {
     "slide_type": "fragment"
    }
   },
   "source": [
    "$$V_{p-1} \\equiv 2 \\mod p\\quad\\text{ si }\\left(\\frac{D}{p}\\right) = 1$$"
   ]
  },
  {
   "cell_type": "markdown",
   "id": "bdf381e1",
   "metadata": {
    "slideshow": {
     "slide_type": "subslide"
    }
   },
   "source": [
    "## $$ V_{k\\left(p-\\left(\\frac{D}{p}\\right)\\right)}(P,Q) \\equiv 2Q^{\\frac{1}{2}\\left(1-\\left(\\frac{D}{p}\\right)\\right)} \\mod p $$"
   ]
  },
  {
   "cell_type": "markdown",
   "id": "98b52ac9",
   "metadata": {
    "slideshow": {
     "slide_type": "fragment"
    }
   },
   "source": [
    "$$2U_{i+j} = U_iV_j + U_j V_i$$\n",
    "$$2V_{i+j} = V_iV_j + DU_iU_j$$"
   ]
  },
  {
   "cell_type": "markdown",
   "id": "93271006",
   "metadata": {
    "slideshow": {
     "slide_type": "fragment"
    }
   },
   "source": [
    "$$2V_{i+2j} = V_iV_{2j} + DU_iU_jV_j$$"
   ]
  },
  {
   "cell_type": "markdown",
   "id": "d3769a00",
   "metadata": {
    "slideshow": {
     "slide_type": "fragment"
    }
   },
   "source": [
    "$$p\\mid V_i \\text{ y } p \\mid V_j \\Longrightarrow p \\mid V_{i+2j}$$"
   ]
  },
  {
   "cell_type": "markdown",
   "id": "da1e718c",
   "metadata": {
    "slideshow": {
     "slide_type": "fragment"
    }
   },
   "source": [
    "$$V_{2i} = V_i^2 - 2Q^{i}$$"
   ]
  },
  {
   "cell_type": "code",
   "execution_count": 29,
   "id": "247c763b",
   "metadata": {
    "slideshow": {
     "slide_type": "notes"
    }
   },
   "outputs": [
    {
     "data": {
      "text/latex": [
       "$\\displaystyle a^{2 i} + b^{2 i}$"
      ],
      "text/plain": [
       "a**(2*i) + b**(2*i)"
      ]
     },
     "execution_count": 29,
     "metadata": {},
     "output_type": "execute_result"
    }
   ],
   "source": [
    "sp.expand(V(i)**2 -2*Q**i).simplify()"
   ]
  },
  {
   "cell_type": "code",
   "execution_count": 30,
   "id": "4f01d0c7",
   "metadata": {
    "slideshow": {
     "slide_type": "notes"
    }
   },
   "outputs": [
    {
     "data": {
      "text/latex": [
       "$\\displaystyle a^{2 i} + b^{2 i}$"
      ],
      "text/plain": [
       "a**(2*i) + b**(2*i)"
      ]
     },
     "execution_count": 30,
     "metadata": {},
     "output_type": "execute_result"
    }
   ],
   "source": [
    "V(2*i)"
   ]
  },
  {
   "cell_type": "markdown",
   "id": "2d7078a4",
   "metadata": {
    "slideshow": {
     "slide_type": "fragment"
    }
   },
   "source": [
    "$$p \\mid V_i \\text{ y } p \\mid 2Q^i \\Longrightarrow p \\mid V_{2i}$$"
   ]
  },
  {
   "cell_type": "markdown",
   "id": "c8925555",
   "metadata": {
    "slideshow": {
     "slide_type": "slide"
    }
   },
   "source": [
    "# Método $p+1$ de William"
   ]
  },
  {
   "cell_type": "code",
   "execution_count": 149,
   "id": "3fd76190",
   "metadata": {
    "slideshow": {
     "slide_type": "notes"
    }
   },
   "outputs": [],
   "source": [
    "from typing import Callable"
   ]
  },
  {
   "cell_type": "code",
   "execution_count": 31,
   "id": "6ee61e3f",
   "metadata": {
    "slideshow": {
     "slide_type": "subslide"
    }
   },
   "outputs": [],
   "source": [
    "def metodo_generico (\n",
    "    N: int, \n",
    "    B: int, \n",
    "    initial_candidate: int,\n",
    "    update_candidate: Callable[[int,int], int],\n",
    "    extract: Callable[[int,int],int] = gcd,\n",
    ") -> int:\n",
    "    candidate = initial_candidate\n",
    "    for prime in primes_until(B):\n",
    "        r = pow(prime, int(log(B,prime)))\n",
    "        candidate = update_candidate(candidate,r)\n",
    "        d = extract(candidate, N)\n",
    "        if d not in (1,N):\n",
    "            return d\n",
    "    return 1\n",
    "\n",
    "def metodo_pollard(N: int, B: int) -> int:\n",
    "    update = lambda a_R, r: pow(a_R,r,N)\n",
    "    return metodo_generico ( N\n",
    "                           , B\n",
    "                           , initial_candidate = randint(2,N-1)\n",
    "                           , update_candidate  = update\n",
    "                           , extract = lambda a, b : gcd(a-1,b))"
   ]
  },
  {
   "cell_type": "markdown",
   "id": "55f495c4",
   "metadata": {
    "slideshow": {
     "slide_type": "subslide"
    }
   },
   "source": [
    "### ¿Cómo conseguimos algo parecido, aprovechándonos de las funciones de Lucas?"
   ]
  },
  {
   "cell_type": "markdown",
   "id": "19acfd30",
   "metadata": {
    "slideshow": {
     "slide_type": "fragment"
    }
   },
   "source": [
    "_A partir de ahora asumimos que $Q = 1$. En el paper original, William prueba que esto se puede hacer sin pérdida de generalidad pues_"
   ]
  },
  {
   "cell_type": "markdown",
   "id": "14f1922a",
   "metadata": {},
   "source": [
    "$$U_{2m}(a+b,ab) \\equiv PQ^{m-1}U_m\\left(\\frac{a}{b}+\\frac{b}{a},1\\right)\\mod p$$ "
   ]
  },
  {
   "cell_type": "markdown",
   "id": "9139a245",
   "metadata": {},
   "source": [
    "_por lo que_"
   ]
  },
  {
   "cell_type": "markdown",
   "id": "0fb734e7",
   "metadata": {},
   "source": [
    "$$p \\mid U_m(P,Q) \\Longrightarrow p \\mid U_{2m}(P,Q) \\Longrightarrow U_m(P',1)$$"
   ]
  },
  {
   "cell_type": "markdown",
   "id": "ba646e1c",
   "metadata": {
    "slideshow": {
     "slide_type": "subslide"
    }
   },
   "source": [
    "$$\n",
    "\\begin{align*}\n",
    "U_{2n - 1} &= U_n^2 - QU_{n-1}^2 \\\\\n",
    "U_{2n} &= U_n\\left(P U_n - 2QU_{n-1}\\right) \\\\\n",
    "U_{2n + 1} &= PU_{2n} - QU_{2n-1} \\\\\n",
    "\\end{align*}\n",
    "$$"
   ]
  },
  {
   "cell_type": "markdown",
   "id": "6f26cc58",
   "metadata": {
    "slideshow": {
     "slide_type": "fragment"
    }
   },
   "source": [
    "Funcionaría, pero tiene un problema. Necesitamos tener $R$ construido totalmente para hallar $U_R$"
   ]
  },
  {
   "cell_type": "markdown",
   "id": "e27f6603",
   "metadata": {
    "slideshow": {
     "slide_type": "subslide"
    }
   },
   "source": [
    "$$V_n(V_k(P,Q),Q^k) = V_{nk}(P,Q)$$"
   ]
  },
  {
   "cell_type": "markdown",
   "id": "4bc16d6b",
   "metadata": {
    "slideshow": {
     "slide_type": "fragment"
    }
   },
   "source": [
    "Si tenemos $R = r_1 \\dots r_k$ y queremos construir $V_R(P) = V_R(P,1)$ entonces podemos considerar $v_0 = V_1 = P$ y $v_i = V_{r_1 \\dots r_i}(P) = V_{r_i}(v_{i-1})$, donde $v_k = R$"
   ]
  },
  {
   "cell_type": "markdown",
   "id": "f5c638f7",
   "metadata": {
    "slideshow": {
     "slide_type": "subslide"
    }
   },
   "source": [
    "$$\n",
    "\\begin{pmatrix}\n",
    "V_i \\\\ V_{i+1}\n",
    "\\end{pmatrix}\n",
    "=\n",
    "\\begin{pmatrix}\n",
    "0 & 1 \\\\\n",
    "-Q & P\n",
    "\\end{pmatrix}\n",
    "\\begin{pmatrix}\n",
    "V_{i-1}\\\\ V_i\n",
    "\\end{pmatrix}\n",
    " = \n",
    "\\begin{pmatrix}\n",
    "0 & 1 \\\\\n",
    "-Q & P\n",
    "\\end{pmatrix} ^2\n",
    "\\begin{pmatrix}\n",
    "V_{i-2}\\\\ V_{i-1}\n",
    "\\end{pmatrix}\n",
    "=\n",
    "\\cdots\n",
    "=\n",
    "\\begin{pmatrix}\n",
    "0 & 1 \\\\\n",
    "-Q & P\n",
    "\\end{pmatrix} ^ i\n",
    "\\begin{pmatrix}\n",
    "V_{0}\\\\ V_{1}\n",
    "\\end{pmatrix}\n",
    "$$"
   ]
  },
  {
   "cell_type": "code",
   "execution_count": 40,
   "id": "ba27329d",
   "metadata": {
    "slideshow": {
     "slide_type": "subslide"
    }
   },
   "outputs": [],
   "source": [
    "Matriz = list[list[int]]\n",
    "def matmul(A: Matriz, B: Matriz,M:int) -> Matriz:\n",
    "    return [[sum(A[i][k]*B[k][j]%M  for k in range(len(B)))%M\n",
    "             for j in range(len(B[0]))]\n",
    "             for i in range(len(A))]\n",
    "def matpow(A: Matriz, n: int,M) -> Matriz:\n",
    "    if n == 0:\n",
    "        return [[int(i == j) for i in range(len(A[0]))]\n",
    "                             for j in range(len(A))]\n",
    "    if n == 1:\n",
    "        return A\n",
    "    if n%2 == 1:\n",
    "        return matmul(A,matpow(A,n-1,M),M)\n",
    "    aux = matpow(A,n//2,M)\n",
    "    return matmul(aux,aux,M)\n",
    "\n",
    "def V(P: int, Q: int, n: int, N: int) -> int:\n",
    "    return matmul(\n",
    "        [[2, P]],\n",
    "        matpow([[0,-Q]\n",
    "               ,[1, P] ], n, N),\n",
    "        N\n",
    "    )[0][0]"
   ]
  },
  {
   "cell_type": "code",
   "execution_count": 41,
   "id": "88030ea2",
   "metadata": {
    "slideshow": {
     "slide_type": "subslide"
    }
   },
   "outputs": [],
   "source": [
    "def metodo_william(N: int, B: int) -> int:\n",
    "    P_0 = randint(2,N)\n",
    "    if (d := gcd(P_0**2-4,N)) == 1: return d\n",
    "    update = lambda v_i,r : V(v_i,1,r,N)\n",
    "    return metodo_generico( N\n",
    "                          , B\n",
    "                          , initial_candidate = P_0\n",
    "                          , update_candidate  = update\n",
    "                          , extract = lambda a, b : gcd(a-2,b))"
   ]
  },
  {
   "cell_type": "code",
   "execution_count": 80,
   "id": "b8f6bb29",
   "metadata": {
    "slideshow": {
     "slide_type": "notes"
    }
   },
   "outputs": [
    {
     "data": {
      "text/plain": [
       "[(2, 3),\n",
       " (5, 3),\n",
       " (3, 4),\n",
       " (11, 4),\n",
       " (19, 5),\n",
       " (29, 5),\n",
       " (59, 5),\n",
       " (13, 7),\n",
       " (41, 7),\n",
       " (83, 7),\n",
       " (139, 7),\n",
       " (419, 7),\n",
       " (7, 8),\n",
       " (23, 8),\n",
       " (167, 8),\n",
       " (839, 8),\n",
       " (17, 9),\n",
       " (71, 9),\n",
       " (89, 9),\n",
       " (179, 9),\n",
       " (251, 9),\n",
       " (359, 9),\n",
       " (503, 9),\n",
       " (43, 11),\n",
       " (109, 11),\n",
       " (131, 11),\n",
       " (197, 11),\n",
       " (263, 11),\n",
       " (307, 11),\n",
       " (439, 11),\n",
       " (461, 11),\n",
       " (659, 11),\n",
       " (769, 11),\n",
       " (103, 13),\n",
       " (181, 13),\n",
       " (233, 13),\n",
       " (311, 13),\n",
       " (389, 13),\n",
       " (467, 13),\n",
       " (571, 13),\n",
       " (727, 13),\n",
       " (857, 13),\n",
       " (47, 16),\n",
       " (79, 16),\n",
       " (239, 16),\n",
       " (719, 16),\n",
       " (67, 17),\n",
       " (101, 17),\n",
       " (271, 17),\n",
       " (373, 17),\n",
       " (509, 17),\n",
       " (883, 17),\n",
       " (37, 19),\n",
       " (113, 19),\n",
       " (151, 19),\n",
       " (227, 19),\n",
       " (379, 19),\n",
       " (569, 19),\n",
       " (683, 19),\n",
       " (797, 19),\n",
       " (911, 19),\n",
       " (137, 23),\n",
       " (229, 23),\n",
       " (367, 23),\n",
       " (643, 23),\n",
       " (827, 23),\n",
       " (919, 23),\n",
       " (149, 25),\n",
       " (199, 25),\n",
       " (349, 25),\n",
       " (449, 25),\n",
       " (599, 25),\n",
       " (53, 27),\n",
       " (107, 27),\n",
       " (269, 27),\n",
       " (431, 27),\n",
       " (593, 27),\n",
       " (701, 27),\n",
       " (173, 29),\n",
       " (347, 29),\n",
       " (463, 29),\n",
       " (521, 29),\n",
       " (811, 29),\n",
       " (61, 31),\n",
       " (433, 31),\n",
       " (557, 31),\n",
       " (619, 31),\n",
       " (743, 31),\n",
       " (929, 31),\n",
       " (31, 32),\n",
       " (223, 32),\n",
       " (479, 32),\n",
       " (607, 32),\n",
       " (863, 32),\n",
       " (991, 32),\n",
       " (73, 37),\n",
       " (443, 37),\n",
       " (739, 37),\n",
       " (887, 37),\n",
       " (163, 41),\n",
       " (409, 41),\n",
       " (491, 41),\n",
       " (983, 41),\n",
       " (257, 43),\n",
       " (601, 43),\n",
       " (773, 43),\n",
       " (859, 43),\n",
       " (281, 47),\n",
       " (563, 47),\n",
       " (751, 47),\n",
       " (97, 49),\n",
       " (293, 49),\n",
       " (587, 49),\n",
       " (881, 49),\n",
       " (211, 53),\n",
       " (317, 53),\n",
       " (953, 53),\n",
       " (353, 59),\n",
       " (487, 61),\n",
       " (853, 61),\n",
       " (191, 64),\n",
       " (401, 67),\n",
       " (937, 67),\n",
       " (283, 71),\n",
       " (709, 71),\n",
       " (157, 79),\n",
       " (631, 79),\n",
       " (947, 79),\n",
       " (647, 81),\n",
       " (809, 81),\n",
       " (331, 83),\n",
       " (829, 83),\n",
       " (193, 97),\n",
       " (617, 103),\n",
       " (823, 103),\n",
       " (641, 107),\n",
       " (653, 109),\n",
       " (677, 113),\n",
       " (241, 121),\n",
       " (967, 121),\n",
       " (499, 125),\n",
       " (761, 127),\n",
       " (127, 128),\n",
       " (383, 128),\n",
       " (523, 131),\n",
       " (547, 137),\n",
       " (821, 137),\n",
       " (277, 139),\n",
       " (313, 157),\n",
       " (941, 157),\n",
       " (977, 163),\n",
       " (337, 169),\n",
       " (691, 173),\n",
       " (787, 197),\n",
       " (397, 199),\n",
       " (421, 211),\n",
       " (907, 227),\n",
       " (457, 229),\n",
       " (971, 243),\n",
       " (541, 271),\n",
       " (577, 289),\n",
       " (613, 307),\n",
       " (661, 331),\n",
       " (673, 337),\n",
       " (733, 367),\n",
       " (757, 379),\n",
       " (877, 439),\n",
       " (997, 499)]"
      ]
     },
     "execution_count": 80,
     "metadata": {},
     "output_type": "execute_result"
    }
   ],
   "source": [
    "candidates = []\n",
    "for prime in primes_until(1_000):\n",
    "    factors = sp.factorint(prime+1)\n",
    "    B = max(p**a for p, a in factors.items())\n",
    "    candidates += [(prime,B)]\n",
    "sorted(candidates, key=lambda c : c[1])"
   ]
  },
  {
   "cell_type": "code",
   "execution_count": 156,
   "id": "bdb9ab13",
   "metadata": {
    "slideshow": {
     "slide_type": "notes"
    }
   },
   "outputs": [
    {
     "data": {
      "text/plain": [
       "769"
      ]
     },
     "execution_count": 156,
     "metadata": {},
     "output_type": "execute_result"
    }
   ],
   "source": [
    "next(d for _ in range(1000) if (d := metodo_william(769**10, 20)) != 1)"
   ]
  },
  {
   "cell_type": "code",
   "execution_count": 157,
   "id": "f4326bd2",
   "metadata": {
    "slideshow": {
     "slide_type": "notes"
    }
   },
   "outputs": [
    {
     "data": {
      "text/plain": [
       "839"
      ]
     },
     "execution_count": 157,
     "metadata": {},
     "output_type": "execute_result"
    }
   ],
   "source": [
    "next(d for _ in range(1000) if (d := metodo_william(839**10,8)) != 1)"
   ]
  },
  {
   "cell_type": "code",
   "execution_count": 72,
   "id": "6c14b42f",
   "metadata": {
    "slideshow": {
     "slide_type": "notes"
    }
   },
   "outputs": [
    {
     "name": "stdout",
     "output_type": "stream",
     "text": [
      "139\n",
      "{2: 3, 3: 1, 7: 1, 11: 1, 61: 1}\n",
      "1\n",
      "{2: 4, 61: 1, 463: 1}\n",
      "613\n"
     ]
    }
   ],
   "source": [
    "print(metodo_william(112729,23))\n",
    "print(sympy.factorint(112729-1))\n",
    "print(metodo_william(451889,10))\n",
    "print(sympy.factorint(451889-1))\n",
    "print(next(d for _ in range(100000) if (d := metodo_william(613**2,333)) != 1))"
   ]
  },
  {
   "cell_type": "code",
   "execution_count": 1,
   "id": "49ca1c51",
   "metadata": {
    "slideshow": {
     "slide_type": "notes"
    }
   },
   "outputs": [],
   "source": [
    "import sympy as sp\n",
    "i,j,a,b = sp.symbols(\"i,j,a,b\", reals=True, positive=True)\n",
    "P = a + b\n",
    "Q = a*b\n",
    "D = (a-b)**2\n",
    "U = lambda n : (a**n-b**n)/(a-b)\n",
    "V = lambda n : a**n + b**n"
   ]
  },
  {
   "cell_type": "markdown",
   "id": "876ede8d",
   "metadata": {
    "slideshow": {
     "slide_type": "slide"
    }
   },
   "source": [
    "# Fin de la presentación\n",
    "### ¿Alguna pregunta?"
   ]
  }
 ],
 "metadata": {
  "celltoolbar": "Slideshow",
  "kernelspec": {
   "display_name": "Python 3 (ipykernel)",
   "language": "python",
   "name": "python3"
  },
  "language_info": {
   "codemirror_mode": {
    "name": "ipython",
    "version": 3
   },
   "file_extension": ".py",
   "mimetype": "text/x-python",
   "name": "python",
   "nbconvert_exporter": "python",
   "pygments_lexer": "ipython3",
   "version": "3.11.6"
  }
 },
 "nbformat": 4,
 "nbformat_minor": 5
}
